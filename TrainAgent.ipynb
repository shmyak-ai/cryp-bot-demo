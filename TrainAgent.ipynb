{
 "cells": [
  {
   "cell_type": "code",
   "execution_count": null,
   "metadata": {},
   "outputs": [],
   "source": [
    "import pandas as pd\n",
    "from ray.rllib.agents import ppo\n",
    "from ray.tune.logger import pretty_print\n",
    "\n",
    "from src.rllib_gym_trade_environment import prepare_dict\n",
    "from src.rllib_gym_trade_environment import CryptoEnv"
   ]
  },
  {
   "cell_type": "code",
   "execution_count": null,
   "metadata": {},
   "outputs": [],
   "source": [
    "stop_iters = 200\n",
    "n_workers = 5\n",
    "n_envs_per_worker = 20\n",
    "r_fragment_length = 2000\n",
    "train_batch_size = n_workers * n_envs_per_worker * r_fragment_length\n",
    "sgd_minibatch_size = int(train_batch_size / 10)\n",
    "df_train = pd.read_parquet('data/df_train.parquet')\n",
    "train_dict = prepare_dict(df_train)\n",
    "config = {\n",
    "    \"env\": CryptoEnv,\n",
    "    \"env_config\": {\n",
    "        \"price_array\": train_dict['price_array'],\n",
    "        \"observations\": train_dict['observations'],\n",
    "        \"initial_capital\": 1e4,\n",
    "        \"gamma\": 0.99,\n",
    "        \"max_steps\": r_fragment_length,\n",
    "    },\n",
    "    \"num_gpus\": 1,\n",
    "    \"model\": {\n",
    "        \"vf_share_layers\": False,\n",
    "    },\n",
    "    \"num_workers\": n_workers,\n",
    "    \"num_envs_per_worker\": n_envs_per_worker,\n",
    "    \"rollout_fragment_length\": r_fragment_length,\n",
    "    \"train_batch_size\": train_batch_size,\n",
    "    \"sgd_minibatch_size\": sgd_minibatch_size,\n",
    "    \"batch_mode\": \"complete_episodes\",\n",
    "    \"framework\": \"tf\",\n",
    "}"
   ]
  },
  {
   "cell_type": "code",
   "execution_count": null,
   "metadata": {},
   "outputs": [],
   "source": [
    "ppo_config = ppo.DEFAULT_CONFIG.copy()\n",
    "ppo_config.update(config)\n",
    "ppo_config[\"lr\"] = 1e-5\n",
    "trainer = ppo.PPOTrainer(config=ppo_config, env=CryptoEnv)\n",
    "\n",
    "for _ in range(stop_iters):\n",
    "    result = trainer.train()\n",
    "    print(pretty_print(result))\n",
    "    checkpoint = trainer.save()\n",
    "    print(\"Checkpoint saved at\", checkpoint, \"\\n\")"
   ]
  }
 ],
 "metadata": {
  "interpreter": {
   "hash": "8f46f886b21fe00123f344738b44e766b5b2ce7455afcc0e3672256ebe063244"
  },
  "kernelspec": {
   "display_name": "Python 3.8.13 ('tf')",
   "language": "python",
   "name": "python3"
  },
  "language_info": {
   "name": "python",
   "version": "3.8.13"
  },
  "orig_nbformat": 4
 },
 "nbformat": 4,
 "nbformat_minor": 2
}
