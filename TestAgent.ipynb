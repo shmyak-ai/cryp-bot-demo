{
 "cells": [
  {
   "cell_type": "code",
   "execution_count": null,
   "metadata": {},
   "outputs": [],
   "source": [
    "import numpy as np\n",
    "import pandas as pd\n",
    "from ray.rllib.agents import ppo\n",
    "from ray.rllib.utils.framework import try_import_tf\n",
    "import matplotlib.pyplot as plt\n",
    "import seaborn as sns\n",
    "\n",
    "from src.rllib_gym_trade_environment import prepare_dict\n",
    "from src.rllib_gym_trade_environment import CryptoEnv\n",
    "\n",
    "sns.set_style(\"darkgrid\")"
   ]
  },
  {
   "cell_type": "code",
   "execution_count": null,
   "metadata": {},
   "outputs": [],
   "source": [
    "tf1, tf, tfv = try_import_tf()\n",
    "\n",
    "df_test = pd.read_parquet('data/df_train.parquet')\n",
    "test_dict = prepare_dict(df_test)"
   ]
  },
  {
   "cell_type": "code",
   "execution_count": null,
   "metadata": {},
   "outputs": [],
   "source": [
    "config = {\n",
    "    \"env\": CryptoEnv,\n",
    "    \"env_config\": {\n",
    "        \"price_array\": test_dict['price_array'],\n",
    "        \"observations\": test_dict['observations'],\n",
    "        \"initial_capital\": 1e4,\n",
    "        \"gamma\": 0.99,\n",
    "        \"max_steps\": 10000,\n",
    "    },\n",
    "    \"model\": {\n",
    "        \"vf_share_layers\": False,\n",
    "    },\n",
    "    \"framework\": \"tf\",\n",
    "    \"num_workers\": 0,\n",
    "}"
   ]
  },
  {
   "cell_type": "code",
   "execution_count": null,
   "metadata": {},
   "outputs": [],
   "source": [
    "env = CryptoEnv(config[\"env_config\"])\n",
    "ppo_config = ppo.DEFAULT_CONFIG.copy()\n",
    "ppo_config.update(config)\n",
    "trainer = ppo.PPOTrainer(config=ppo_config, env=CryptoEnv)\n",
    "path = \"/home/lmsh/ray_results/PPOTrainer_CryptoEnv_2022-04-22_18-46-303pnq7kyz\" + \\\n",
    "       \"/checkpoint_000050/checkpoint-50\"\n",
    "trainer.restore(path)"
   ]
  },
  {
   "cell_type": "code",
   "execution_count": null,
   "metadata": {},
   "outputs": [],
   "source": [
    "actions = []\n",
    "total_assets = []\n",
    "rewards = []\n",
    "observation = env.reset()\n",
    "for _ in range(config[\"env_config\"][\"max_steps\"]):\n",
    "    action = trainer.compute_action(observation)\n",
    "    observation, reward, done, info = env.step(action)\n",
    "    rewards.append(reward)\n",
    "    total_assets.append(info[\"Final total asset\"])\n",
    "    actions.append(action)\n",
    "    if done:\n",
    "        observation = env.reset()"
   ]
  },
  {
   "cell_type": "code",
   "execution_count": null,
   "metadata": {},
   "outputs": [],
   "source": [
    "init_step, final_step = info[\"Initial step\"], info[\"Final step\"]"
   ]
  },
  {
   "cell_type": "code",
   "execution_count": null,
   "metadata": {},
   "outputs": [],
   "source": [
    "fig, ax = plt.subplots(1, 1, figsize=(12, 5))\n",
    "ax.plot(df_test.iloc[init_step: final_step].index, df_test.iloc[init_step: final_step]['price'])\n",
    "ax.set_xlabel(\"Time\")\n",
    "ax.set_ylabel(\"Price\")\n",
    "ax.set_title(\"Test set\")"
   ]
  },
  {
   "cell_type": "code",
   "execution_count": null,
   "metadata": {},
   "outputs": [],
   "source": [
    "fig, ax = plt.subplots(1, 1, figsize=(12, 5))\n",
    "ax.scatter(df_test.iloc[init_step: final_step].index, np.array(actions))\n",
    "ax.set_xlabel(\"Time\")\n",
    "ax.set_ylabel(\"actions\")"
   ]
  },
  {
   "cell_type": "code",
   "execution_count": null,
   "metadata": {},
   "outputs": [],
   "source": [
    "fig, ax = plt.subplots(1, 1, figsize=(12, 5))\n",
    "ax.scatter(df_test.iloc[init_step: final_step].index, np.array(rewards))\n",
    "ax.set_xlabel(\"Time\")\n",
    "ax.set_ylabel(\"Rewards\")"
   ]
  },
  {
   "cell_type": "code",
   "execution_count": null,
   "metadata": {},
   "outputs": [],
   "source": [
    "fig, ax = plt.subplots(1, 1, figsize=(12, 5))\n",
    "ax.scatter(df_test.iloc[init_step: final_step].index, np.array(total_assets))\n",
    "ax.set_xlabel(\"Time\")\n",
    "ax.set_ylabel(\"Total asset\")"
   ]
  },
  {
   "cell_type": "code",
   "execution_count": null,
   "metadata": {},
   "outputs": [],
   "source": []
  }
 ],
 "metadata": {
  "interpreter": {
   "hash": "53ad6e88999a7a556a01f09a579e67500642eded1c3ab73988f9aa62648482bb"
  },
  "kernelspec": {
   "display_name": "Python 3.8.10 ('fin_rl')",
   "language": "python",
   "name": "python3"
  },
  "language_info": {
   "codemirror_mode": {
    "name": "ipython",
    "version": 3
   },
   "file_extension": ".py",
   "mimetype": "text/x-python",
   "name": "python",
   "nbconvert_exporter": "python",
   "pygments_lexer": "ipython3",
   "version": "3.8.10"
  },
  "orig_nbformat": 4
 },
 "nbformat": 4,
 "nbformat_minor": 2
}
