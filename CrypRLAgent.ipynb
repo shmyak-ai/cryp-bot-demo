{
 "cells": [
  {
   "cell_type": "code",
   "execution_count": null,
   "metadata": {},
   "outputs": [],
   "source": [
    "import os\n",
    "import random\n",
    "\n",
    "import numpy as np\n",
    "import pandas as pd\n",
    "import matplotlib.pyplot as plt\n",
    "import seaborn as sns\n",
    "import gym\n",
    "from gym import spaces\n",
    "from ray.rllib.agents import ppo\n",
    "from ray.rllib.env.env_context import EnvContext\n",
    "\n",
    "sns.set_style(\"darkgrid\")"
   ]
  },
  {
   "cell_type": "markdown",
   "metadata": {},
   "source": [
    "## Environment"
   ]
  },
  {
   "cell_type": "code",
   "execution_count": null,
   "metadata": {},
   "outputs": [],
   "source": [
    "def prepare_dict(df):\n",
    "    price_array = df['price'].to_numpy(dtype=np.float32)[:, np.newaxis]\n",
    "    df = df.drop(columns=['price'])\n",
    "    obs_array = df.to_numpy(dtype=np.float32)\n",
    "    data_dictionary = {'price_array': price_array, 'observations': obs_array}\n",
    "    return data_dictionary\n",
    "\n",
    "\n",
    "class CryptoEnv(gym.Env):\n",
    "    def __init__(self, config: EnvContext):\n",
    "        self._price_array = config['price_array']\n",
    "        self._observations = config['observations']\n",
    "\n",
    "        self._base_cash = config['initial_capital']\n",
    "        self._cash_usd = None\n",
    "        self._stocks_usd = None\n",
    "        self._stocks = None\n",
    "        self._total_asset = None\n",
    "        self._initial_total_asset = None\n",
    "\n",
    "        self._time_step = None\n",
    "        self._initial_step = None\n",
    "        self._max_steps = config['max_steps']\n",
    "        self._final_step = None\n",
    "        self._upper_bound_step = self._price_array.shape[0] - self._max_steps - 1\n",
    "\n",
    "        self._gamma = config['gamma']\n",
    "        self._gamma_return = None\n",
    "\n",
    "        self._action_dim = self._price_array.shape[1]\n",
    "        # buy or sell up to the base cash equivalent(usd)\n",
    "        self.action_space = spaces.Box(low=-1.0, high=1.0, shape=(self._action_dim,), dtype=np.float32)\n",
    "        # cash + stocks + observations\n",
    "        self._state_dim = 2 + self._observations.shape[1]\n",
    "        self.observation_space = spaces.Box(low=-5.0, high=5.0, shape=(self._state_dim,), dtype=np.float32)\n",
    "\n",
    "        self._state = None\n",
    "        self._episode_ended = None\n",
    "\n",
    "    def reset(self):\n",
    "        self._time_step = self._initial_step = random.randint(0, self._upper_bound_step)\n",
    "        self._final_step = self._initial_step + self._max_steps\n",
    "        self._cash_usd = random.random() * self._base_cash\n",
    "        self._stocks_usd = random.random() * self._base_cash\n",
    "        self._stocks = self._stocks_usd / self._price_array[self._time_step][0]\n",
    "        self._total_asset = self._initial_total_asset = self._cash_usd + self._stocks_usd\n",
    "        self._gamma_return = 0.0\n",
    "\n",
    "        self._state = self._get_state()\n",
    "        self._episode_ended = False\n",
    "        return self._state\n",
    "\n",
    "    def step(self, action):\n",
    "        self._time_step += 1\n",
    "        price = self._price_array[self._time_step][0]\n",
    "        self._stocks_usd = self._stocks * price\n",
    "        if action[0] < 0 and price > 0:  # sell\n",
    "            sell_shares_usd = min(self._base_cash * -action[0], self._stocks_usd)\n",
    "            self._stocks_usd -= sell_shares_usd\n",
    "            self._cash_usd += sell_shares_usd\n",
    "        elif action[0] > 0 and price > 0:  # buy\n",
    "            money_to_spend = min(self._base_cash * action[0], self._cash_usd)\n",
    "            self._stocks_usd += money_to_spend\n",
    "            self._cash_usd -= money_to_spend\n",
    "        self._stocks = self._stocks_usd / price\n",
    "\n",
    "        self._episode_ended = self._time_step == self._final_step\n",
    "        self._state = self._get_state()\n",
    "        next_total_asset = self._cash_usd + self._stocks_usd\n",
    "\n",
    "        reward = (next_total_asset - self._total_asset) / self._base_cash\n",
    "        self._total_asset = next_total_asset\n",
    "        self._gamma_return = self._gamma_return * self._gamma + reward\n",
    "        if self._episode_ended:\n",
    "            reward = self._gamma_return\n",
    "            return self._state, reward, True, self._get_info()\n",
    "        else:\n",
    "            return self._state, reward, False, self._get_info()\n",
    "\n",
    "    def _get_state(self):\n",
    "        state = np.hstack(((self._cash_usd - self._base_cash) / self._base_cash, \n",
    "                           (self._stocks_usd - self._base_cash) / self._base_cash))\n",
    "        observation = self._observations[self._time_step]\n",
    "        state = np.hstack((state, observation)).astype(np.float32)\n",
    "        return state\n",
    "\n",
    "    def _get_info(self):\n",
    "        return {\"Initial step\": self._initial_step, \n",
    "                \"Final step\": self._final_step, \n",
    "                \"Initial total asset\": self._initial_total_asset, \n",
    "                \"Final total asset\": self._total_asset, \n",
    "                \"Gamma return\": self._gamma_return}"
   ]
  },
  {
   "cell_type": "markdown",
   "metadata": {},
   "source": [
    "## Prepare data"
   ]
  },
  {
   "cell_type": "code",
   "execution_count": null,
   "metadata": {},
   "outputs": [],
   "source": [
    "PERIODS = ['3min', '5min', '15min', '30min', '1h', '2h', '4h', '6h', '8h', '12h', '1d', '3d', '7d', '30d']\n",
    "START_DATE = '2022-01-01'\n",
    "INITIAL_DATE = '2022-01-31'\n",
    "FINISH_DATE = '2022-03-01'"
   ]
  },
  {
   "cell_type": "code",
   "execution_count": null,
   "metadata": {},
   "outputs": [],
   "source": [
    "try:\n",
    "    df = pd.read_parquet('data/BTC-USDT.parquet')\n",
    "except FileNotFoundError:\n",
    "    os.makedirs('data', exist_ok=True)\n",
    "    !kaggle datasets download -d jorijnsmit/binance-full-history -f BTC-USDT.parquet -p ./data --unzip"
   ]
  },
  {
   "cell_type": "code",
   "execution_count": null,
   "metadata": {},
   "outputs": [],
   "source": [
    "fig, ax = plt.subplots(1, 1, figsize=(14, 5))\n",
    "ax.plot(df[START_DATE:FINISH_DATE].index, df[START_DATE:FINISH_DATE]['close'])\n",
    "ax.set_xlabel(\"Time\")\n",
    "ax.set_ylabel(\"Price\")"
   ]
  },
  {
   "cell_type": "code",
   "execution_count": null,
   "metadata": {},
   "outputs": [],
   "source": [
    "df_train = df[START_DATE:FINISH_DATE][['open', 'high', 'low', 'close']].copy()\n",
    "df_train[['open', 'high', 'low', 'close']] = df_train[['open', 'high', 'low', 'close']] - df_train[['open', 'high', 'low', 'close']].mean().mean()\n",
    "df_train[['open', 'high', 'low', 'close']] = df_train[['open', 'high', 'low', 'close']] / df_train[['open', 'high', 'low', 'close']].std().mean()\n",
    "df_train['price'] = df[START_DATE:FINISH_DATE]['close']\n",
    "\n",
    "for period in PERIODS:\n",
    "    df_train['open' + period] = df_train['open'].rolling(period).agg(lambda rows: rows[0])\n",
    "    df_train['high' + period] = df_train['high'].rolling(period).max()\n",
    "    df_train['low' + period] = df_train['low'].rolling(period).min()"
   ]
  },
  {
   "cell_type": "code",
   "execution_count": null,
   "metadata": {},
   "outputs": [],
   "source": [
    "df_train = df_train[INITIAL_DATE:]"
   ]
  },
  {
   "cell_type": "markdown",
   "metadata": {},
   "source": [
    "## Train agent"
   ]
  },
  {
   "cell_type": "code",
   "execution_count": null,
   "metadata": {},
   "outputs": [],
   "source": [
    "stop_iters = 200\n",
    "n_workers = 5\n",
    "n_envs_per_worker = 20\n",
    "r_fragment_length = 2000\n",
    "train_batch_size = n_workers * n_envs_per_worker * r_fragment_length\n",
    "sgd_minibatch_size = int(train_batch_size / 10)\n",
    "train_dict = prepare_dict(df_train)\n",
    "config = {\n",
    "    \"env\": CryptoEnv,\n",
    "    \"env_config\": {\n",
    "        \"price_array\": train_dict['price_array'],\n",
    "        \"observations\": train_dict['observations'],\n",
    "        \"initial_capital\": 1e4,\n",
    "        \"gamma\": 0.99,\n",
    "        \"max_steps\": r_fragment_length,\n",
    "    },\n",
    "    \"num_gpus\": 1,\n",
    "    \"model\": {\n",
    "        \"vf_share_layers\": False,\n",
    "    },\n",
    "    \"num_workers\": n_workers,\n",
    "    \"num_envs_per_worker\": n_envs_per_worker,\n",
    "    \"rollout_fragment_length\": r_fragment_length,\n",
    "    \"train_batch_size\": train_batch_size,\n",
    "    \"sgd_minibatch_size\": sgd_minibatch_size,\n",
    "    \"batch_mode\": \"complete_episodes\",\n",
    "    \"framework\": \"tf\",\n",
    "}"
   ]
  },
  {
   "cell_type": "code",
   "execution_count": null,
   "metadata": {},
   "outputs": [],
   "source": [
    "ppo_config = ppo.DEFAULT_CONFIG.copy()\n",
    "ppo_config.update(config)\n",
    "ppo_config[\"lr\"] = 1e-5\n",
    "trainer = ppo.PPOTrainer(config=ppo_config, env=CryptoEnv)\n",
    "for _ in range(stop_iters):\n",
    "    result = trainer.train()\n",
    "    checkpoint = trainer.save()"
   ]
  },
  {
   "cell_type": "markdown",
   "metadata": {},
   "source": [
    "## Visualize results "
   ]
  },
  {
   "cell_type": "code",
   "execution_count": null,
   "metadata": {},
   "outputs": [],
   "source": [
    "config[\"env_config\"][\"max_steps\"] = df_train.shape[0] - 1\n",
    "env = CryptoEnv(config[\"env_config\"])\n",
    "actions = []\n",
    "total_assets = []\n",
    "rewards = []\n",
    "observation = env.reset()\n",
    "while True:\n",
    "    action = trainer.compute_action(observation)\n",
    "    observation, reward, done, info = env.step(action)\n",
    "    rewards.append(reward)\n",
    "    total_assets.append(info[\"Final total asset\"])\n",
    "    actions.append(action)\n",
    "    if done:\n",
    "        break"
   ]
  },
  {
   "cell_type": "code",
   "execution_count": null,
   "metadata": {},
   "outputs": [],
   "source": [
    "init_step, final_step = info[\"Initial step\"], info[\"Final step\"]"
   ]
  },
  {
   "cell_type": "code",
   "execution_count": null,
   "metadata": {},
   "outputs": [],
   "source": [
    "fig, ax = plt.subplots(1, 1, figsize=(12, 5))\n",
    "ax.plot(df_train.iloc[init_step: final_step].index, df_train.iloc[init_step: final_step]['price'])\n",
    "ax.set_xlabel(\"Time\")\n",
    "ax.set_ylabel(\"Price\")\n",
    "ax.set_title(\"Train set\")"
   ]
  },
  {
   "cell_type": "code",
   "execution_count": null,
   "metadata": {},
   "outputs": [],
   "source": [
    "fig, ax = plt.subplots(1, 1, figsize=(12, 5))\n",
    "ax.scatter(df_train.iloc[init_step: final_step].index, np.array(total_assets))\n",
    "ax.set_xlabel(\"Time\")\n",
    "ax.set_ylabel(\"Total asset\")"
   ]
  },
  {
   "cell_type": "code",
   "execution_count": null,
   "metadata": {},
   "outputs": [],
   "source": []
  }
 ],
 "metadata": {
  "interpreter": {
   "hash": "53ad6e88999a7a556a01f09a579e67500642eded1c3ab73988f9aa62648482bb"
  },
  "kernelspec": {
   "display_name": "Python 3.8.10 ('fin_rl')",
   "language": "python",
   "name": "python3"
  },
  "language_info": {
   "codemirror_mode": {
    "name": "ipython",
    "version": 3
   },
   "file_extension": ".py",
   "mimetype": "text/x-python",
   "name": "python",
   "nbconvert_exporter": "python",
   "pygments_lexer": "ipython3",
   "version": "3.8.10"
  },
  "orig_nbformat": 4
 },
 "nbformat": 4,
 "nbformat_minor": 2
}
